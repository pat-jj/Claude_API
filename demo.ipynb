{
 "cells": [
  {
   "cell_type": "code",
   "execution_count": 2,
   "metadata": {},
   "outputs": [],
   "source": [
    "from claude_api import Client\n",
    "import os"
   ]
  },
  {
   "cell_type": "code",
   "execution_count": 4,
   "metadata": {},
   "outputs": [],
   "source": [
    "cookie = \"\""
   ]
  },
  {
   "cell_type": "code",
   "execution_count": 5,
   "metadata": {},
   "outputs": [],
   "source": [
    "# cookie = os.environ.get('cookie')\n",
    "claude_api = Client(cookie)"
   ]
  },
  {
   "cell_type": "markdown",
   "metadata": {},
   "source": [
    "### List all conversation uuids"
   ]
  },
  {
   "cell_type": "code",
   "execution_count": 6,
   "metadata": {},
   "outputs": [
    {
     "name": "stdout",
     "output_type": "stream",
     "text": [
      "bd8364bd-06f7-4243-91e2-71813b47ea1f\n",
      "3938fa15-deba-4cf9-8b83-8085afabbcf7\n",
      "87bc6316-c54d-4af7-bed6-c82035fe0569\n",
      "8c8b9879-f8f7-4da9-9d8b-a5d9bf41d004\n"
     ]
    }
   ],
   "source": [
    "conversations = claude_api.list_all_conversations()\n",
    "for conversation in conversations:\n",
    "    conversation_id = conversation['uuid']\n",
    "    print(conversation_id)"
   ]
  },
  {
   "cell_type": "markdown",
   "metadata": {},
   "source": [
    "### Send message"
   ]
  },
  {
   "cell_type": "code",
   "execution_count": 9,
   "metadata": {},
   "outputs": [
    {
     "name": "stdout",
     "output_type": "stream",
     "text": [
      " Hi Patrick, nice to meet you! I'm Claude.\n"
     ]
    }
   ],
   "source": [
    "prompt = \"Hello, I'm Patrick.\"\n",
    "conversation_id = claude_api.create_new_chat()['uuid']\n",
    "response = claude_api.send_message(prompt, conversation_id)\n",
    "print(response)"
   ]
  },
  {
   "cell_type": "markdown",
   "metadata": {},
   "source": [
    "### Chat with Attachments"
   ]
  },
  {
   "cell_type": "code",
   "execution_count": null,
   "metadata": {},
   "outputs": [],
   "source": [
    "# prompt = \"Hey,Summarize me this document.!\"\n",
    "# conversation_id = claude_api.create_new_chat()['uuid']\n",
    "# response = claude_api.send_message(prompt, conversation_id,attachment=\"path/to/file.pdf\",timeout=600)\n",
    "# print(response)"
   ]
  },
  {
   "cell_type": "markdown",
   "metadata": {},
   "source": [
    "### Delete Chats"
   ]
  },
  {
   "cell_type": "code",
   "execution_count": 10,
   "metadata": {},
   "outputs": [
    {
     "name": "stdout",
     "output_type": "stream",
     "text": [
      "Conversation deleted successfully\n"
     ]
    }
   ],
   "source": [
    "conversation_id = \"bd8364bd-06f7-4243-91e2-71813b47ea1f\"\n",
    "deleted = claude_api.delete_conversation(conversation_id)\n",
    "if deleted:\n",
    "    print(\"Conversation deleted successfully\")\n",
    "else:\n",
    "    print(\"Failed to delete conversation\")"
   ]
  },
  {
   "cell_type": "code",
   "execution_count": null,
   "metadata": {},
   "outputs": [],
   "source": []
  }
 ],
 "metadata": {
  "kernelspec": {
   "display_name": "Python 3.8.13 ('kgc')",
   "language": "python",
   "name": "python3"
  },
  "language_info": {
   "codemirror_mode": {
    "name": "ipython",
    "version": 3
   },
   "file_extension": ".py",
   "mimetype": "text/x-python",
   "name": "python",
   "nbconvert_exporter": "python",
   "pygments_lexer": "ipython3",
   "version": "3.8.13"
  },
  "orig_nbformat": 4,
  "vscode": {
   "interpreter": {
    "hash": "3d0509d9aa81f2882b18eeb72d4d23c32cae9029e9b99f63cde94ba86c35ac78"
   }
  }
 },
 "nbformat": 4,
 "nbformat_minor": 2
}
